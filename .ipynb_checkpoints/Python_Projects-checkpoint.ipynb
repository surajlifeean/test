{
 "cells": [
  {
   "cell_type": "code",
   "execution_count": 1,
   "metadata": {},
   "outputs": [
    {
     "name": "stdout",
     "output_type": "stream",
     "text": [
      "hi\n"
     ]
    }
   ],
   "source": [
    "print(\"hi\")"
   ]
  },
  {
   "cell_type": "code",
   "execution_count": 2,
   "metadata": {},
   "outputs": [],
   "source": [
    "import numpy as np"
   ]
  },
  {
   "cell_type": "code",
   "execution_count": null,
   "metadata": {},
   "outputs": [],
   "source": [
    "np.arange(10)"
   ]
  },
  {
   "cell_type": "code",
   "execution_count": null,
   "metadata": {},
   "outputs": [],
   "source": [
    "#!/bin/python3\n",
    "\n",
    "import math\n",
    "import os\n",
    "import random\n",
    "import re\n",
    "import sys\n",
    "\n",
    "# Complete the surfaceArea function below.\n",
    "def surfaceArea(A):\n",
    "    print(A)\n",
    "if __name__ == '__main__':\n",
    "\n",
    "    HW = input().split()\n",
    "\n",
    "    H = int(HW[0])\n",
    "\n",
    "    W = int(HW[1])\n",
    "\n",
    "    A = []\n",
    "\n",
    "    for _ in range(H):\n",
    "        A.append(list(map(int, input().rstrip().split())))\n",
    "    \n",
    "    result = surfaceArea(A)\n",
    "\n"
   ]
  },
  {
   "cell_type": "code",
   "execution_count": 9,
   "metadata": {},
   "outputs": [
    {
     "data": {
      "text/plain": [
       "[[1, 3], [2, 1]]"
      ]
     },
     "execution_count": 9,
     "metadata": {},
     "output_type": "execute_result"
    }
   ],
   "source": [
    "A"
   ]
  },
  {
   "cell_type": "code",
   "execution_count": 11,
   "metadata": {},
   "outputs": [],
   "source": [
    "T=np.asarray(A)"
   ]
  },
  {
   "cell_type": "code",
   "execution_count": 60,
   "metadata": {},
   "outputs": [
    {
     "data": {
      "text/plain": [
       "array([[1, 3],\n",
       "       [2, 1]])"
      ]
     },
     "execution_count": 60,
     "metadata": {},
     "output_type": "execute_result"
    }
   ],
   "source": [
    "T"
   ]
  },
  {
   "cell_type": "code",
   "execution_count": 14,
   "metadata": {},
   "outputs": [
    {
     "data": {
      "text/plain": [
       "1"
      ]
     },
     "execution_count": 14,
     "metadata": {},
     "output_type": "execute_result"
    }
   ],
   "source": [
    "T[0,0]"
   ]
  },
  {
   "cell_type": "code",
   "execution_count": 15,
   "metadata": {},
   "outputs": [],
   "source": [
    "x=[0,0]"
   ]
  },
  {
   "cell_type": "code",
   "execution_count": 18,
   "metadata": {},
   "outputs": [
    {
     "data": {
      "text/plain": [
       "3"
      ]
     },
     "execution_count": 18,
     "metadata": {},
     "output_type": "execute_result"
    }
   ],
   "source": [
    "i=0;\n",
    "j=1;\n",
    "T[i,j]"
   ]
  },
  {
   "cell_type": "code",
   "execution_count": 39,
   "metadata": {},
   "outputs": [
    {
     "name": "stdout",
     "output_type": "stream",
     "text": [
      "Cell and wt at analysis - 0 0 - 1\n",
      "E 0 1\n",
      "S 1 0\n",
      "Cell and wt at analysis - 0 1 - 3\n",
      "W 0 0\n",
      "S 1 1\n",
      "Cell and wt at analysis - 1 0 - 2\n",
      "E 1 1\n",
      "N 0 0\n",
      "Cell and wt at analysis - 1 1 - 1\n",
      "W 1 0\n",
      "N 0 1\n"
     ]
    }
   ],
   "source": [
    "i=0\n",
    "while i<2:\n",
    "    j=0\n",
    "    while j<2:\n",
    "        print(\"Cell and wt at analysis -\",i,j,\"-\",T[i,j])\n",
    "        if(j+1<2):\n",
    "            print('E',i,j+1)\n",
    "        if(j-1>-1):\n",
    "            print('W',i,j-1)\n",
    "        if(i-1>-1):\n",
    "            print('N',i-1,j)\n",
    "        if(i+1<2):\n",
    "            print('S',i+1,j)\n",
    "        j=j+1\n",
    "    i=i+1"
   ]
  },
  {
   "cell_type": "code",
   "execution_count": 20,
   "metadata": {},
   "outputs": [
    {
     "data": {
      "text/plain": [
       "2"
      ]
     },
     "execution_count": 20,
     "metadata": {},
     "output_type": "execute_result"
    }
   ],
   "source": [
    "T[-1,0]"
   ]
  },
  {
   "cell_type": "code",
   "execution_count": 86,
   "metadata": {},
   "outputs": [],
   "source": [
    "def wtCal():\n",
    "    sc=0;\n",
    "    row=2\n",
    "    col=2\n",
    "    i=0\n",
    "    while i<row:\n",
    "        j=0\n",
    "        while j<col:\n",
    "            if(T[i,j]>0):\n",
    "                print(\"Cell and wt at analysis -\",i,j,\"-\",T[i,j])\n",
    "                if(j+1<row):\n",
    "                    print('E',i,j+1)\n",
    "                    print('with wt-',T[i,j+1])\n",
    "                    if(T[i,j+1]<=0):\n",
    "                        sc=sc+1\n",
    "                else:\n",
    "                    sc=sc+1 \n",
    "                if(j-1>=0):\n",
    "                    print('W',i,j-1)\n",
    "                    print('with wt-',T[i,j-1])\n",
    "                    if(T[i,j-1]<=0):\n",
    "                        sc=sc+1\n",
    "                else:\n",
    "                    sc=sc+1 \n",
    "                    \n",
    "                if(i-1>=0):\n",
    "                    print('N',i-1,j)\n",
    "                    print('with wt-',T[i-1,j])\n",
    "                    if(T[i-1,j]<=0):\n",
    "                        sc=sc+1\n",
    "                else:\n",
    "                    sc=sc+1 \n",
    "                    \n",
    "                if(i+1<row):\n",
    "                    print('S',i+1,j)\n",
    "                    print('with wt-',T[i+1,j])\n",
    "                    if(T[i+1,j]<=0):\n",
    "                        sc=sc+1\n",
    "                else:\n",
    "                    sc=sc+1 \n",
    "                    \n",
    "                if(T[i,j]==1):\n",
    "                    print('T',i,j)\n",
    "                    sc=sc+1;\n",
    "            j=j+1\n",
    "        i=i+1\n",
    "        print(sc)"
   ]
  },
  {
   "cell_type": "code",
   "execution_count": 87,
   "metadata": {},
   "outputs": [
    {
     "name": "stdout",
     "output_type": "stream",
     "text": [
      "Cell and wt at analysis - 0 1 - 1\n",
      "W 0 0\n",
      "with wt- -1\n",
      "S 1 1\n",
      "with wt- -1\n",
      "T 0 1\n",
      "5\n",
      "5\n"
     ]
    }
   ],
   "source": [
    "wtCal()"
   ]
  },
  {
   "cell_type": "code",
   "execution_count": 83,
   "metadata": {},
   "outputs": [],
   "source": [
    "T=T-1"
   ]
  },
  {
   "cell_type": "code",
   "execution_count": 81,
   "metadata": {},
   "outputs": [],
   "source": [
    "def wtReducer():\n",
    "    T=T-1"
   ]
  },
  {
   "cell_type": "code",
   "execution_count": 65,
   "metadata": {},
   "outputs": [
    {
     "name": "stdout",
     "output_type": "stream",
     "text": [
      "2\n",
      "1\n"
     ]
    }
   ],
   "source": [
    "for i in T:\n",
    "    for j in i:\n",
    "        if(j<=0):\n",
    "            continue\n",
    "        print(j)"
   ]
  },
  {
   "cell_type": "code",
   "execution_count": 63,
   "metadata": {},
   "outputs": [
    {
     "ename": "UnboundLocalError",
     "evalue": "local variable 'T' referenced before assignment",
     "output_type": "error",
     "traceback": [
      "\u001b[1;31m---------------------------------------------------------------------------\u001b[0m",
      "\u001b[1;31mUnboundLocalError\u001b[0m                         Traceback (most recent call last)",
      "\u001b[1;32m<ipython-input-63-70bc46a9ab6e>\u001b[0m in \u001b[0;36m<module>\u001b[1;34m\u001b[0m\n\u001b[1;32m----> 1\u001b[1;33m \u001b[0mwtReducer\u001b[0m\u001b[1;33m(\u001b[0m\u001b[1;33m)\u001b[0m\u001b[1;33m\u001b[0m\u001b[1;33m\u001b[0m\u001b[0m\n\u001b[0m",
      "\u001b[1;32m<ipython-input-62-175c0b6ab853>\u001b[0m in \u001b[0;36mwtReducer\u001b[1;34m()\u001b[0m\n\u001b[0;32m      1\u001b[0m \u001b[1;32mdef\u001b[0m \u001b[0mwtReducer\u001b[0m\u001b[1;33m(\u001b[0m\u001b[1;33m)\u001b[0m\u001b[1;33m:\u001b[0m\u001b[1;33m\u001b[0m\u001b[1;33m\u001b[0m\u001b[0m\n\u001b[1;32m----> 2\u001b[1;33m     \u001b[0mT\u001b[0m\u001b[1;33m=\u001b[0m\u001b[0mT\u001b[0m\u001b[1;33m-\u001b[0m\u001b[1;36m1\u001b[0m\u001b[1;33m\u001b[0m\u001b[1;33m\u001b[0m\u001b[0m\n\u001b[0m",
      "\u001b[1;31mUnboundLocalError\u001b[0m: local variable 'T' referenced before assignment"
     ]
    }
   ],
   "source": [
    "wtReducer()"
   ]
  },
  {
   "cell_type": "code",
   "execution_count": 85,
   "metadata": {},
   "outputs": [
    {
     "data": {
      "text/plain": [
       "array([[-1,  1],\n",
       "       [ 0, -1]])"
      ]
     },
     "execution_count": 85,
     "metadata": {},
     "output_type": "execute_result"
    }
   ],
   "source": [
    "T"
   ]
  },
  {
   "cell_type": "code",
   "execution_count": 171,
   "metadata": {},
   "outputs": [
    {
     "name": "stdout",
     "output_type": "stream",
     "text": [
      "3 3\n",
      "1 2 3\n",
      "2 2 3\n",
      "1 2 1\n",
      "54\n"
     ]
    }
   ],
   "source": [
    "#!/bin/python3\n",
    "\n",
    "import math\n",
    "import os\n",
    "import random\n",
    "import re\n",
    "import sys\n",
    "\n",
    "#for a specific level check if for a cell blocks exists around it if no block exists then add up the sc(surface count)\n",
    "def wtCal():\n",
    "    sc=0;\n",
    "    row=H\n",
    "    col=W\n",
    "    i=0\n",
    "    while i<row:\n",
    "        j=0\n",
    "        while j<col:\n",
    "            if(T[i,j]>0):\n",
    "                #print(\"Cell and wt at analysis -\",i,j,\"-\",T[i,j])\n",
    "                if(j+1<row):\n",
    "                    #print('E',i,j+1)\n",
    "                   # print('with wt-',T[i,j+1])\n",
    "                    if(T[i,j+1]<=0):\n",
    "                        sc=sc+1\n",
    "                else:\n",
    "                    sc=sc+1 \n",
    "                if(j-1>=0):\n",
    "                   #print('W',i,j-1)\n",
    "                    #print('with wt-',T[i,j-1])\n",
    "                    if(T[i,j-1]<=0):\n",
    "                        sc=sc+1\n",
    "                else:\n",
    "                    sc=sc+1 \n",
    "                    \n",
    "                if(i-1>=0):\n",
    "                   # print('N',i-1,j)\n",
    "                    #print('with wt-',T[i-1,j])\n",
    "                    if(T[i-1,j]<=0):\n",
    "                        sc=sc+1\n",
    "                else:\n",
    "                    sc=sc+1 \n",
    "                    \n",
    "                if(i+1<row):\n",
    "                   #print('S',i+1,j)\n",
    "                   # print('with wt-',T[i+1,j])\n",
    "                    if(T[i+1,j]<=0):\n",
    "                        sc=sc+1\n",
    "                else:\n",
    "                    sc=sc+1 \n",
    "                    \n",
    "                if(T[i,j]==1):\n",
    "                    #print('T',i,j)\n",
    "                    sc=sc+1;\n",
    "            j=j+1\n",
    "        i=i+1\n",
    "    return sc\n",
    "\n",
    "\n",
    "# Complete the surfaceArea function below.\n",
    "def surfaceArea(T):\n",
    "    i=0\n",
    "    res=0\n",
    "    while(i<np.max(T)):\n",
    "        res=res+wtCal()\n",
    "        T=T-1\n",
    "        baseSurface=H*W\n",
    "    return(res+baseSurface)\n",
    "\n",
    "if __name__ == '__main__':\n",
    "\n",
    "    HW = input().split()\n",
    "\n",
    "    H = int(HW[0])\n",
    "\n",
    "    W = int(HW[1])\n",
    "\n",
    "    A = []\n",
    "\n",
    "    for _ in range(H):\n",
    "        A.append(list(map(int, input().rstrip().split())))\n",
    "    T=np.asarray(A)\n",
    "    result = surfaceArea(T)\n",
    "\n",
    "print(result)"
   ]
  },
  {
   "cell_type": "code",
   "execution_count": 1,
   "metadata": {},
   "outputs": [
    {
     "name": "stdout",
     "output_type": "stream",
     "text": [
      "new feature added\n"
     ]
    }
   ],
   "source": [
    "print(\"new feature added\")"
   ]
  },
  {
   "cell_type": "code",
   "execution_count": null,
   "metadata": {},
   "outputs": [],
   "source": []
  }
 ],
 "metadata": {
  "kernelspec": {
   "display_name": "Python 3",
   "language": "python",
   "name": "python3"
  },
  "language_info": {
   "codemirror_mode": {
    "name": "ipython",
    "version": 3
   },
   "file_extension": ".py",
   "mimetype": "text/x-python",
   "name": "python",
   "nbconvert_exporter": "python",
   "pygments_lexer": "ipython3",
   "version": "3.7.6"
  }
 },
 "nbformat": 4,
 "nbformat_minor": 4
}
